{
 "cells": [
  {
   "cell_type": "code",
   "execution_count": 2,
   "id": "9ecc5b74-d179-4036-a596-006a4826200d",
   "metadata": {},
   "outputs": [],
   "source": [
    "import os\n",
    "import numpy as np\n",
    "from src.config import IMAGE_SIZE, PROCESSED_DIR, RAW_DIR, SEED, TEST_DIR, TRAIN_DIR, VAL_DIR\n",
    "from tensorflow.keras.preprocessing.image import ImageDataGenerator, load_img, img_to_array, array_to_img\n",
    "from sklearn.model_selection import train_test_split\n",
    "import shutil"
   ]
  },
  {
   "cell_type": "code",
   "execution_count": 3,
   "id": "ac9647a4-668a-4cb2-8b65-5459f0d1101a",
   "metadata": {},
   "outputs": [],
   "source": [
    "# Augmentation parameters\n",
    "AUGMENTATION_CONFIG = {\n",
    "    \"rotation_range\": 45,\n",
    "    \"width_shift_range\": 0.3,\n",
    "    \"height_shift_range\": 0.3,\n",
    "    \"shear_range\": 45,\n",
    "    \"zoom_range\": [0.8, 1.25],\n",
    "    \"horizontal_flip\": True,\n",
    "    \"vertical_flip\": True,\n",
    "    \"brightness_range\": [0.1, 2],\n",
    "    \"fill_mode\": 'constant',\n",
    "}"
   ]
  },
  {
   "cell_type": "code",
   "execution_count": 4,
   "id": "824af8e8-9f14-416b-8368-4f1da9ae7c06",
   "metadata": {},
   "outputs": [],
   "source": [
    "def create_directories():\n",
    "    \"\"\"Create directories for train, validation, and test sets if they don't exist.\"\"\"\n",
    "    os.makedirs(TRAIN_DIR, exist_ok=True)\n",
    "    os.makedirs(VAL_DIR, exist_ok=True)\n",
    "    os.makedirs(TEST_DIR, exist_ok=True)\n",
    "    os.makedirs(PROCESSED_DIR, exist_ok=True)"
   ]
  },
  {
   "cell_type": "code",
   "execution_count": 5,
   "id": "a37b7e55-e9b5-4d8c-83cb-9951befd15e0",
   "metadata": {},
   "outputs": [],
   "source": [
    "def augment_data(datagen, img, img_name, save_dir, count=5):\n",
    "    \"\"\"Augment a single image and save multiple versions.\"\"\"\n",
    "    img = img_to_array(img)\n",
    "    img = np.expand_dims(img, 0)\n",
    "    i = 0\n",
    "    for batch in datagen.flow(img, batch_size=1, save_to_dir=save_dir, save_prefix=img_name, save_format='jpeg'):\n",
    "        i += 1\n",
    "        if i >= count:  # Generate 'count' augmented images\n",
    "            break"
   ]
  },
  {
   "cell_type": "code",
   "execution_count": 6,
   "id": "cbd1bedd-9869-43ef-804c-89d689627f23",
   "metadata": {},
   "outputs": [],
   "source": [
    "def preprocess_and_augment_data():\n",
    "    \"\"\"Load images, preprocess, augment, and split them into train, val, and test sets.\"\"\"\n",
    "    \n",
    "    # Image data generator for augmentation\n",
    "    datagen = ImageDataGenerator(**AUGMENTATION_CONFIG)\n",
    "    \n",
    "    # Lists to store image paths and labels\n",
    "    images = []\n",
    "    labels = []\n",
    "\n",
    "    # Load images and append to lists\n",
    "    for category in os.listdir(RAW_DIR):\n",
    "        category_path = os.path.join(RAW_DIR, category)\n",
    "        if os.path.isdir(category_path):\n",
    "            for img_name in os.listdir(category_path):\n",
    "                img_path = os.path.join(category_path, img_name)\n",
    "                if img_name.lower().endswith(('jpeg', 'jpg', 'png')):\n",
    "                    images.append(img_path)\n",
    "                    labels.append(category)\n",
    "    \n",
    "    # Split the dataset\n",
    "    train_images, test_images, train_labels, test_labels = train_test_split(images, labels, test_size=0.2, random_state=SEED)\n",
    "    train_images, val_images, train_labels, val_labels = train_test_split(train_images, train_labels, test_size=0.1, random_state=SEED)\n",
    "\n",
    "    # Augment and save training images\n",
    "    for img_path, label in zip(train_images, train_labels):\n",
    "        img = load_img(img_path, target_size=IMAGE_SIZE)\n",
    "        save_dir = os.path.join(TRAIN_DIR, label)\n",
    "        os.makedirs(save_dir, exist_ok=True)\n",
    "        augment_data(datagen, img, os.path.basename(img_path), save_dir)\n",
    "\n",
    "    # Save validation images\n",
    "    for img_path, label in zip(val_images, val_labels):\n",
    "        img = load_img(img_path, target_size=IMAGE_SIZE)\n",
    "        save_dir = os.path.join(VAL_DIR, label)\n",
    "        os.makedirs(save_dir, exist_ok=True)\n",
    "        img.save(os.path.join(save_dir, os.path.basename(img_path)))\n",
    "\n",
    "    # Save test images\n",
    "    for img_path, label in zip(test_images, test_labels):\n",
    "        img = load_img(img_path, target_size=IMAGE_SIZE)\n",
    "        save_dir = os.path.join(TEST_DIR, label)\n",
    "        os.makedirs(save_dir, exist_ok=True)\n",
    "        img.save(os.path.join(save_dir, os.path.basename(img_path)))\n",
    "\n",
    "    print(\"Preprocessing and augmentation completed.\")"
   ]
  },
  {
   "cell_type": "code",
   "execution_count": 7,
   "id": "328cdcd2-a8db-461a-817f-2d40b713b15a",
   "metadata": {},
   "outputs": [],
   "source": [
    "def main():\n",
    "    # Create directories\n",
    "    create_directories()\n",
    "    \n",
    "    # Preprocess and augment the data\n",
    "    preprocess_and_augment_data()"
   ]
  },
  {
   "cell_type": "code",
   "execution_count": 9,
   "id": "42597ce0-552b-421d-9a21-c0b7e19e83ab",
   "metadata": {},
   "outputs": [
    {
     "name": "stdout",
     "output_type": "stream",
     "text": [
      "Preprocessing and augmentation completed.\n"
     ]
    }
   ],
   "source": [
    "if __name__ == '__main__':\n",
    "    main()"
   ]
  },
  {
   "cell_type": "code",
   "execution_count": null,
   "id": "62fdae91-1bc3-4736-9b65-cf01815f2880",
   "metadata": {},
   "outputs": [],
   "source": []
  }
 ],
 "metadata": {
  "kernelspec": {
   "display_name": "Python 3 (ipykernel)",
   "language": "python",
   "name": "python3"
  },
  "language_info": {
   "codemirror_mode": {
    "name": "ipython",
    "version": 3
   },
   "file_extension": ".py",
   "mimetype": "text/x-python",
   "name": "python",
   "nbconvert_exporter": "python",
   "pygments_lexer": "ipython3",
   "version": "3.8.19"
  }
 },
 "nbformat": 4,
 "nbformat_minor": 5
}
